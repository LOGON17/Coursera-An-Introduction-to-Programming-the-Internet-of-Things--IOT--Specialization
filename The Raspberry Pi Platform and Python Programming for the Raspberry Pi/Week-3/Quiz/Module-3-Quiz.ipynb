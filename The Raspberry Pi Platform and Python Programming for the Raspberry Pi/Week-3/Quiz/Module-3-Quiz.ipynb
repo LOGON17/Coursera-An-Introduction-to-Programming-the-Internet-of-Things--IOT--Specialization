{
 "cells": [
  {
   "cell_type": "markdown",
   "metadata": {},
   "source": [
    "#### 1. Assume that we have typed the following in the Python shell:\n",
    "\n",
    ">>> x = ‘chemistry’\n",
    "\n",
    ">>> x[3]\n",
    "\n",
    "What will be printed on the screen as a result?"
   ]
  },
  {
   "cell_type": "markdown",
   "metadata": {},
   "source": [
    "##### Ans: m"
   ]
  },
  {
   "cell_type": "markdown",
   "metadata": {},
   "source": [
    "#### 2. Assume that we have typed the following in the Python shell:\n",
    "\n",
    ">>> x = ‘chemistry’\n",
    "\n",
    ">>> ‘i’ in x\n",
    "\n",
    "What will be printed on the screen as a result?"
   ]
  },
  {
   "cell_type": "markdown",
   "metadata": {},
   "source": [
    "##### Ans: True"
   ]
  },
  {
   "cell_type": "markdown",
   "metadata": {},
   "source": [
    "#### 3. Assume that we have typed the following in the Python shell:\n",
    "\n",
    ">>> x = ‘3’\n",
    "\n",
    ">>> y = ‘4’\n",
    "\n",
    ">>> x + y * 2\n",
    "\n",
    "What will be printed on the screen as a result?"
   ]
  },
  {
   "cell_type": "markdown",
   "metadata": {},
   "source": [
    "##### Ans: ‘344’"
   ]
  },
  {
   "cell_type": "markdown",
   "metadata": {},
   "source": [
    "#### 4. Assume that we have typed the following in the Python shell:\n",
    "\n",
    ">>> x = [1, 2]\n",
    "\n",
    ">>> y = [3, 4]\n",
    "\n",
    ">>> x.append(y)\n",
    "\n",
    "What will be printed on the screen as a result?"
   ]
  },
  {
   "cell_type": "markdown",
   "metadata": {},
   "source": [
    "##### Ans: [1, 2, [3, 4]]"
   ]
  },
  {
   "cell_type": "markdown",
   "metadata": {},
   "source": [
    "#### 5. Assume that the following Python program is executed:\n",
    "<img src=\"https://d3c33hcgiwev3.cloudfront.net/imageAssetProxy.v1/fwAKqagqEeWzcxKZFP5xpQ_f3559e51beebe28b8fbd71620c301e8b_Q5-Quiz-3.PNG?expiry=1546387200000&amp;hmac=iDv9wTsTx04WVdzjZUnw-Ua83Hox4r8Sf4cCAGNZdqE\" alt=\"\">\n",
    "#### What will be printed on the screen as a result?"
   ]
  },
  {
   "cell_type": "markdown",
   "metadata": {},
   "source": [
    "##### Ans: 2"
   ]
  },
  {
   "cell_type": "markdown",
   "metadata": {},
   "source": [
    "#### 6. Assume that the following Python program is executed:\n",
    "<img src=\"https://d3c33hcgiwev3.cloudfront.net/imageAssetProxy.v1/4xddDagqEeWzcxKZFP5xpQ_ad0ecea90b26e27ccbbab79b80019cc7_Q6-Quiz-3.PNG?expiry=1546387200000&amp;hmac=K4sL7QvWZImBjg9wyZqYGDf_bVWe8dLCQz0Dkm-0oYg\" alt=\"\">\n",
    "#### What will be printed on the screen as a result?"
   ]
  },
  {
   "cell_type": "markdown",
   "metadata": {},
   "source": [
    "##### Ans: [4, 5, 5, 6]"
   ]
  },
  {
   "cell_type": "markdown",
   "metadata": {},
   "source": [
    "#### 7. Correct indentation is essential for your Python program to work."
   ]
  },
  {
   "cell_type": "markdown",
   "metadata": {},
   "source": [
    "##### Ans: True"
   ]
  },
  {
   "cell_type": "markdown",
   "metadata": {},
   "source": [
    "#### 8. Raspberry Pi can execute Python 3 code, but not Python 2."
   ]
  },
  {
   "cell_type": "markdown",
   "metadata": {},
   "source": [
    "##### Ans: False"
   ]
  }
 ],
 "metadata": {
  "kernelspec": {
   "display_name": "Python 3",
   "language": "python",
   "name": "python3"
  },
  "language_info": {
   "codemirror_mode": {
    "name": "ipython",
    "version": 3
   },
   "file_extension": ".py",
   "mimetype": "text/x-python",
   "name": "python",
   "nbconvert_exporter": "python",
   "pygments_lexer": "ipython3",
   "version": "3.6.4"
  }
 },
 "nbformat": 4,
 "nbformat_minor": 2
}
