{
 "cells": [
  {
   "cell_type": "markdown",
   "metadata": {},
   "source": [
    "### In your own words, write a short paragraph describing the differences between the TCP and IP protocols. "
   ]
  },
  {
   "cell_type": "markdown",
   "metadata": {},
   "source": [
    "- IP protocols means Internet protocols. There are currently two implementations of this layer - IPv4 and IPv6, although the vast majority of the internet still uses IPv4. IPv4 is 32 bit memory.  IPv4 uses one address format, and IPV6 uses a different one. IP protocols is an unreliable communication and host naming.\n",
    "- On the other side, TCP means Transmission Control Protocols.  The TCP layer takes care of ensuring that there is a reliable channel for the application layer. The service it provides is connection based. TCP protocols communicate with process-to-process in application."
   ]
  },
  {
   "cell_type": "markdown",
   "metadata": {},
   "source": [
    "### Then, in your own words, describe the different roles between the TCP and IP protocols in Internet communication. "
   ]
  },
  {
   "cell_type": "markdown",
   "metadata": {},
   "source": [
    "#### TCP Protocols:\n",
    "- Process-to-Process communication\n",
    "- Reliable communication\n",
    "- Process naming\n",
    "\n",
    "#### IP Protocols:\n",
    "- Host-to-Host Connection\n",
    "- Unreliable communication\n",
    "- Host naming scheme"
   ]
  }
 ],
 "metadata": {
  "kernelspec": {
   "display_name": "Python 3",
   "language": "python",
   "name": "python3"
  },
  "language_info": {
   "codemirror_mode": {
    "name": "ipython",
    "version": 3
   },
   "file_extension": ".py",
   "mimetype": "text/x-python",
   "name": "python",
   "nbconvert_exporter": "python",
   "pygments_lexer": "ipython3",
   "version": "3.6.4"
  }
 },
 "nbformat": 4,
 "nbformat_minor": 2
}
