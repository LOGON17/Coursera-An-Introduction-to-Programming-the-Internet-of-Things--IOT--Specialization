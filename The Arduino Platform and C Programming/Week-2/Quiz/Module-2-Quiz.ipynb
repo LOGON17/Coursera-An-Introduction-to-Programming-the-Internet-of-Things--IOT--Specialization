{
 "cells": [
  {
   "cell_type": "markdown",
   "metadata": {},
   "source": [
    "#### 1.  What is the name of the library which contains the printf() function?"
   ]
  },
  {
   "cell_type": "markdown",
   "metadata": {},
   "source": [
    "##### Ans: stdio.h"
   ]
  },
  {
   "cell_type": "markdown",
   "metadata": {},
   "source": [
    "#### 2. What does the '\\n' character mean?"
   ]
  },
  {
   "cell_type": "markdown",
   "metadata": {},
   "source": [
    "##### Ans: newline"
   ]
  },
  {
   "cell_type": "markdown",
   "metadata": {},
   "source": [
    "#### 3. What type of data is surrounded by double quotes in a program?"
   ]
  },
  {
   "cell_type": "markdown",
   "metadata": {},
   "source": [
    "##### Ans: a string"
   ]
  },
  {
   "cell_type": "markdown",
   "metadata": {},
   "source": [
    "#### 4. What C type is one byte long?"
   ]
  },
  {
   "cell_type": "markdown",
   "metadata": {},
   "source": [
    "##### Ans: char"
   ]
  },
  {
   "cell_type": "markdown",
   "metadata": {},
   "source": [
    "#### 5.  Does the following statement evaluate to True or False?"
   ]
  },
  {
   "cell_type": "raw",
   "metadata": {},
   "source": [
    "(10 || (5-2)) && ((6 / 2) - (1 + 2))"
   ]
  },
  {
   "cell_type": "markdown",
   "metadata": {},
   "source": [
    "##### Ans: False"
   ]
  },
  {
   "cell_type": "markdown",
   "metadata": {},
   "source": [
    "#### 6.  What does the following program print to the screen?"
   ]
  },
  {
   "cell_type": "raw",
   "metadata": {},
   "source": [
    "int main (){\n",
    "   int x = 0, y = 1;\n",
    "   if (x || !y)\n",
    "  \tprintf(\"1\");\n",
    "   else if (y && x)\n",
    "  \tprintf(\"2\");\n",
    "   else\n",
    "  \tprintf(\"3\");\n",
    "}"
   ]
  },
  {
   "cell_type": "markdown",
   "metadata": {},
   "source": [
    "##### Ans: 3"
   ]
  },
  {
   "cell_type": "markdown",
   "metadata": {},
   "source": [
    "#### 7.  What does the following program print to the screen?"
   ]
  },
  {
   "cell_type": "raw",
   "metadata": {},
   "source": [
    "int main (){\n",
    "   int x = 0, z = 2;\n",
    "   while (x < 3) {\n",
    "  \tprintf (\"%i \", x);\n",
    "      x = x + z;\n",
    "    }\n",
    "}"
   ]
  },
  {
   "cell_type": "markdown",
   "metadata": {},
   "source": [
    "##### Ans: 0 2"
   ]
  },
  {
   "cell_type": "markdown",
   "metadata": {},
   "source": [
    "#### 8. What does the following program print to the screen?"
   ]
  },
  {
   "cell_type": "raw",
   "metadata": {},
   "source": [
    "int foo (int q) {\n",
    "    int x = 1;\n",
    "    return (q + x);\n",
    "}\n",
    "int main (){\n",
    "   int x = 0;\n",
    "   while (x < 3) {\n",
    "  \tprintf (\"%i \", x);\n",
    "      x = x + foo(x);\n",
    "    }\n",
    "}"
   ]
  },
  {
   "cell_type": "markdown",
   "metadata": {},
   "source": [
    "##### Ans: 0 1"
   ]
  }
 ],
 "metadata": {
  "kernelspec": {
   "display_name": "Python 3",
   "language": "python",
   "name": "python3"
  },
  "language_info": {
   "codemirror_mode": {
    "name": "ipython",
    "version": 3
   },
   "file_extension": ".py",
   "mimetype": "text/x-python",
   "name": "python",
   "nbconvert_exporter": "python",
   "pygments_lexer": "ipython3",
   "version": "3.6.4"
  }
 },
 "nbformat": 4,
 "nbformat_minor": 2
}
